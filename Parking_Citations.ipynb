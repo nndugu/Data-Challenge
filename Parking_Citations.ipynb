{
 "cells": [
  {
   "cell_type": "code",
   "execution_count": 2,
   "metadata": {},
   "outputs": [],
   "source": [
    "import pandas as pd\n",
    "import numpy as np\n",
    "import math as mp\n",
    "import matplotlib.pyplot as plt\n",
    "from sklearn.linear_model import LinearRegression "
   ]
  },
  {
   "cell_type": "code",
   "execution_count": 4,
   "metadata": {},
   "outputs": [
    {
     "name": "stdout",
     "output_type": "stream",
     "text": [
      "The mean violation for all citations before 01-01-2019: $49.163338396\n"
     ]
    }
   ],
   "source": [
    "###########################\n",
    "# SECTION 1: QUESTION ONE #\n",
    "###########################\n",
    "#Breakdown the data into chunks, preprocess and store each chunk in the list defined below\n",
    "cit_chunk_list = []  \n",
    "#Define chunksize\n",
    "chunksize = 10 ** 4\n",
    "for chunk in pd.read_csv(\"Parking_Citations.csv\", chunksize=chunksize, low_memory=True):\n",
    "    cit_chunk_list.append(chunk)\n",
    "cit_df=pd.concat(cit_chunk_list)\n",
    "\n",
    "mean_ViolFine=np.mean(cit_df[\"ViolFine\"])\n",
    "print(\"The mean violation for all citations before 01-01-2019: $%.9f\" %(mean_ViolFine))"
   ]
  },
  {
   "cell_type": "code",
   "execution_count": 5,
   "metadata": {},
   "outputs": [
    {
     "name": "stderr",
     "output_type": "stream",
     "text": [
      "/home/ndugnel/anaconda3/lib/python3.7/site-packages/ipykernel_launcher.py:7: SettingWithCopyWarning: \n",
      "A value is trying to be set on a copy of a slice from a DataFrame.\n",
      "Try using .loc[row_indexer,col_indexer] = value instead\n",
      "\n",
      "See the caveats in the documentation: http://pandas.pydata.org/pandas-docs/stable/indexing.html#indexing-view-versus-copy\n",
      "  import sys\n"
     ]
    },
    {
     "name": "stdout",
     "output_type": "stream",
     "text": [
      "Police distict with highest violation fine is: Northeastern Police District, with mean violation fine of $60.911735781\n"
     ]
    }
   ],
   "source": [
    "###########################\n",
    "# SECTION 1: QUESTION TWO #\n",
    "###########################\n",
    "\n",
    "cit_Districts=cit_df[ cit_df[\"PoliceDistrict\"].notnull()]\n",
    "\n",
    "cit_Districts[\"PoliceDistrict2\"]=cit_Districts[\"PoliceDistrict\"].str.lower()\n",
    "\n",
    "cit_Districts=cit_Districts.replace(\"notheastern\",\"northeastern\")\n",
    "\n",
    "policeDistricts=cit_Districts[\"PoliceDistrict2\"]\n",
    "\n",
    "policeDistricts=list(policeDistricts.drop_duplicates())\n",
    "\n",
    "ViolFines_Balt=[]\n",
    "for district in policeDistricts:\n",
    "    violFine=cit_Districts.query(\"PoliceDistrict2 == '%s'\" %(district))\n",
    "    mean_ViolFine=np.mean(violFine[\"ViolFine\"])\n",
    "    ViolFines_Balt.append([district, mean_ViolFine])\n",
    "\n",
    "ViolFines_Balt=sorted(ViolFines_Balt, key=lambda x: x[1], reverse=True)\n",
    "\n",
    "print(\"Police distict with highest violation fine is: %s Police District, with mean violation fine of $%.9f\" \n",
    "      %(ViolFines_Balt[0][0].capitalize(),ViolFines_Balt[0][1]))"
   ]
  },
  {
   "cell_type": "code",
   "execution_count": 6,
   "metadata": {},
   "outputs": [
    {
     "name": "stdout",
     "output_type": "stream",
     "text": [
      "Year\tNo Violation\n",
      "2004\t162\n",
      "2005\t1136\n",
      "2006\t5550\n",
      "2007\t50049\n",
      "2008\t41672\n",
      "2009\t42719\n",
      "2010\t45842\n",
      "2011\t129722\n",
      "2012\t160453\n",
      "2013\t53916\n",
      "2014\t79135\n",
      "Slope:11220.090909091\n"
     ]
    },
    {
     "data": {
      "image/png": "[encoded data removed]",
      "text/plain": [
       "<Figure size 432x288 with 1 Axes>"
      ]
     },
     "metadata": {
      "needs_background": "light"
     },
     "output_type": "display_data"
    }
   ],
   "source": [
    "###########################\n",
    "# SECTION 1: QUESTION THREE #\n",
    "###########################\n",
    "\n",
    "#PARKING CITATIONS BETWEEN 2004-2014\n",
    "\n",
    "cit_chunk_list = []  \n",
    "#Define chunksize\n",
    "chunksize = 10 ** 4\n",
    "for chunk in pd.read_csv(\"Parking_Citations2004_2014.csv\", chunksize=chunksize, low_memory=True):\n",
    "        cit_chunk_list.append(chunk)\n",
    "\n",
    "cit_Year=pd.concat(cit_chunk_list)\n",
    "\n",
    "cit_Year[\"ViolYear\"]=pd.to_datetime(cit_Year[\"ViolDate\"]).dt.year\n",
    "\n",
    "No_Violations=[]\n",
    "Years=range(2004,2015)\n",
    "for year in Years:\n",
    "    \n",
    "    Viols=cit_Year.query(\"ViolYear == %d\" %(year))\n",
    "    count=len(Viols)\n",
    "    No_Violations.append([year, count])\n",
    "No_Violations=np.array(No_Violations)\n",
    "\n",
    "\n",
    "print(\"Year\\tNo Violation\")\n",
    "for item in No_Violations:\n",
    "    print(\"%d\\t%d\" %(item[0], item[1]))\n",
    "\n",
    "def plotViolations(x, y):\n",
    "    #Set the linear regression model\n",
    "    reg_model = LinearRegression()\n",
    "    #Train the model\n",
    "    reg_model.fit(x.reshape(-1,1), y.reshape(-1,1))\n",
    "    # Predict\n",
    "    viol_predicted = reg_model.predict(x.reshape(-1,1))\n",
    "    # print the slope\n",
    "    print('Slope:%.9f' %(reg_model.coef_[0][0]))\n",
    "    plt.plot(x, viol_predicted, color='r')\n",
    "    plt.scatter(x,y)\n",
    "\n",
    "x=No_Violations[:,0]\n",
    "y=No_Violations[:,1]\n",
    "plotViolations(x, y)"
   ]
  },
  {
   "cell_type": "code",
   "execution_count": 7,
   "metadata": {},
   "outputs": [
    {
     "name": "stdout",
     "output_type": "stream",
     "text": [
      "81st percentile of open penalty vehicles : $480.000000000\n"
     ]
    }
   ],
   "source": [
    "############################\n",
    "# SECTION 1: QUESTION FOUR #\n",
    "############################\n",
    "\n",
    "cit_OpenPenalty=list(cit_df.query(\"OpenPenalty > 0.0\")[\"OpenPenalty\"])\n",
    "\n",
    "print(\"81st percentile of open penalty vehicles : $%.9f\" % \n",
    "       np.percentile(cit_OpenPenalty, 81))"
   ]
  },
  {
   "cell_type": "code",
   "execution_count": 8,
   "metadata": {},
   "outputs": [
    {
     "name": "stdout",
     "output_type": "stream",
     "text": [
      "    District  AutoThefts\n",
      "0    CENTRAL         294\n",
      "1    EASTERN         336\n",
      "2  NORTHEAST         821\n",
      "3   NORTHERN         498\n",
      "4  NORTHWEST         567\n",
      "5  SOUTHEAST         494\n",
      "6   SOUTHERN         453\n",
      "7  SOUTHWEST         557\n",
      "8    WESTERN         542\n",
      "  PoliceDistrict  Citation\n",
      "0        CENTRAL      5383\n",
      "1        EASTERN      1178\n",
      "2   NORTHEASTERN      1427\n",
      "3       NORTHERN      4510\n",
      "4   NORTHWESTERN       506\n",
      "5   SOUTHEASTERN      7540\n",
      "6       SOUTHERN      6186\n",
      "7   SOUTHWESTERN       907\n",
      "8        WESTERN       901\n",
      "  PoliceDistrict  Citation  AutoThefts  Theft/Citation\n",
      "0   NORTHWESTERN       506         567        1.120553\n",
      "1   SOUTHWESTERN       907         557        0.614112\n",
      "2        WESTERN       901         542        0.601554\n",
      "3   NORTHEASTERN      1427         821        0.575333\n",
      "4        EASTERN      1178         336        0.285229\n",
      "5       NORTHERN      4510         498        0.110421\n",
      "6       SOUTHERN      6186         453        0.073230\n",
      "7   SOUTHEASTERN      7540         494        0.065517\n",
      "8        CENTRAL      5383         294        0.054616\n",
      "The police district with the highest ratio is: NORTHWESTERN\n"
     ]
    }
   ],
   "source": [
    "###########################\n",
    "# SECTION 1: QUESTION SIX #\n",
    "###########################\n",
    "\n",
    "crime_df=pd.read_csv(\"Crime_Data.csv\")\n",
    "\n",
    "crime_df=crime_df[crime_df[\"CrimeDate\"].str.contains(\"2015\")]\n",
    "\n",
    "crime_auto_df=crime_df[crime_df[\"Description\"].str.contains(\"AUTO THEFT\")]\n",
    "\n",
    "summary_crime_auto_df=crime_auto_df.groupby([\"District\"], as_index=False).count()\n",
    "\n",
    "summary_crime_auto_df.rename(columns={'Description': 'AutoThefts'}, inplace=True)\n",
    "\n",
    "summary_crime_auto_df=summary_crime_auto_df[[\"District\", \"AutoThefts\"]].drop([8]).reset_index(drop=True)\n",
    "\n",
    "summary_crime_auto_df=summary_crime_auto_df.sort_values(by=[\"District\"])\n",
    "print(summary_crime_auto_df)\n",
    "\n",
    "cit_park_df_2015=cit_df[cit_df[\"ViolDate\"].str.contains(\"2015\")]\n",
    "\n",
    "cit_park_df_2015 = cit_park_df_2015.loc[cit_park_df_2015['PoliceDistrict'] == cit_park_df_2015[\"PoliceDistrict\"].str.upper()].copy()\n",
    "\n",
    "summary_cit_park_df=cit_park_df_2015.groupby([\"PoliceDistrict\"], as_index=False).count()\n",
    "\n",
    "summary_cit_park_df=summary_cit_park_df[[\"PoliceDistrict\", \"Citation\"]]\n",
    "\n",
    "summary_cit_park_df=summary_cit_park_df.sort_values(by=[\"PoliceDistrict\"])\n",
    "print(summary_cit_park_df)\n",
    "\n",
    "AutoTheft_ParkCit=summary_cit_park_df.copy()\n",
    "\n",
    "AutoTheft_ParkCit[\"AutoThefts\"]=summary_crime_auto_df[\"AutoThefts\"]\n",
    "\n",
    "AutoTheft_ParkCit[\"Theft/Citation\"]=AutoTheft_ParkCit[\"AutoThefts\"]/AutoTheft_ParkCit[\"Citation\"]\n",
    "\n",
    "AutoTheft_ParkCit=AutoTheft_ParkCit.sort_values(by=[\"Theft/Citation\"], ascending=False)\n",
    "\n",
    "AutoTheft_ParkCit=AutoTheft_ParkCit.reset_index(drop=True)\n",
    "\n",
    "print(AutoTheft_ParkCit)\n",
    "\n",
    "print(\"The police district with the highest ratio is: %s\" %AutoTheft_ParkCit.at[0,\"PoliceDistrict\"])\n",
    "\n"
   ]
  },
  {
   "cell_type": "code",
   "execution_count": null,
   "metadata": {},
   "outputs": [],
   "source": []
  }
 ],
 "metadata": {
  "kernelspec": {
   "display_name": "Python 3",
   "language": "python",
   "name": "python3"
  },
  "language_info": {
   "codemirror_mode": {
    "name": "ipython",
    "version": 3
   },
   "file_extension": ".py",
   "mimetype": "text/x-python",
   "name": "python",
   "nbconvert_exporter": "python",
   "pygments_lexer": "ipython3",
   "version": "3.7.3"
  }
 },
 "nbformat": 4,
 "nbformat_minor": 2
}
